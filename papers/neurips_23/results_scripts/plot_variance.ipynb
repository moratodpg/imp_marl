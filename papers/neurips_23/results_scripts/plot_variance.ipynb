{
 "cells": [
  {
   "cell_type": "code",
   "execution_count": null,
   "metadata": {
    "collapsed": true,
    "ExecuteTime": {
     "start_time": "2023-06-03T17:51:14.627126Z",
     "end_time": "2023-06-03T17:51:14.639904Z"
    }
   },
   "outputs": [],
   "source": [
    "import os\n",
    "import glob\n",
    "\n",
    "sacred_dir = \"logs\"\n",
    "parent_dir = os.getcwd()\n",
    "print(os.getcwd())\n",
    "test_json_files = glob.glob(os.path.join(parent_dir, sacred_dir, \"**/test**/*info.json\"), recursive=True)\n",
    "print(len(test_json_files))"
   ]
  },
  {
   "cell_type": "code",
   "execution_count": null,
   "outputs": [],
   "source": [],
   "metadata": {
    "collapsed": false,
    "ExecuteTime": {
     "start_time": "2023-06-03T17:51:15.692340Z",
     "end_time": "2023-06-03T17:51:15.757286Z"
    }
   }
  },
  {
   "cell_type": "code",
   "execution_count": null,
   "outputs": [],
   "source": [
    "import json\n",
    "\n",
    "def exp_name_from_file(file):\n",
    "    # test_10000_qvmix_uc_50_owf_25_9__2023-03-15_23-09-01__2023-03-21_06-07-53\n",
    "    # test_10000_qvmix_uc_50_owf_25_cc_True_5__2023-04-01_23-05-55__2023-04-10_17-30-24\n",
    "    exp_name = os.path.basename(os.path.dirname(file))\n",
    "    exp_name = exp_name.split(\"_\")[2:]\n",
    "\n",
    "    if 'owf' in exp_name and 'dqn' in exp_name:\n",
    "        index_env = 5\n",
    "    elif \"owf\" in exp_name:\n",
    "        index_env = 4\n",
    "    else:\n",
    "        index_env = 5\n",
    "\n",
    "    if exp_name[index_env] != exp_name[2] and index_env is not 4:\n",
    "        if int(exp_name[2]) == 10 and int(exp_name[index_env]) < 10:\n",
    "            pass\n",
    "        else:\n",
    "            if not \"dqn\" in exp_name:\n",
    "                print(\"merde\")\n",
    "                print(int(exp_name[2]) == 10, int(exp_name[index_env]) < 10)\n",
    "                print(exp_name, exp_name[2], exp_name[index_env])\n",
    "    if \"cc_True\" in file:\n",
    "        exp_name = [exp_name[0], exp_name[index_env-1], exp_name[index_env], \"cc_True\"]\n",
    "    else:\n",
    "        exp_name = [exp_name[0], exp_name[index_env-1], exp_name[index_env], \"cc_False\"]\n",
    "    if exp_name[1] == \"sarl\":\n",
    "        exp_name[1]= \"owf\"\n",
    "    return exp_name\n",
    "\n",
    "def dict_results_from_json(test_json_files, method, env1, env2, cc):\n",
    "    dict_all=[]\n",
    "\n",
    "    for i in test_json_files:\n",
    "        exp_name=exp_name_from_file(i)\n",
    "\n",
    "        if cc and \"cc_True\" in i:\n",
    "            pass\n",
    "        elif not cc and (\"cc_False\" in i or \"cc\" not in i):\n",
    "            pass\n",
    "        else:\n",
    "            continue\n",
    "\n",
    "        if exp_name[0] == method and exp_name[1] == env1 and exp_name[2] == env2:\n",
    "            exp_name = \"_\".join(exp_name)\n",
    "\n",
    "            # Remove dqn too much\n",
    "            if exp_name.startswith(\"dqn\"):\n",
    "                # ignore uc/ic 10 50 100 and owf 5 25 50\n",
    "                if \"10\" in k or \"50\" in k or \"100\" in k or (\"owf\" in k and ('5' in k or '25' in k or '50' in k)):\n",
    "                    continue\n",
    "        else:\n",
    "            continue\n",
    "        try:\n",
    "            with open(i, \"r\") as file:\n",
    "                infos = json.load(file)\n",
    "                dict_exp= {}\n",
    "                dict_exp[\"name\"] = os.path.basename(os.path.dirname(i))\n",
    "                dict_exp[\"test_return_mean\"] = [i[\"value\"] for i in infos[\"test_return_mean\"]]\n",
    "                dict_exp[\"test_return_mean_T\"] = infos[\"test_return_mean_T\"]\n",
    "                dict_exp[\"test_return_std\"] = [i[\"value\"] for i in infos[\"test_return_std\"]]\n",
    "                dict_all.append(dict_exp)\n",
    "        except Exception as e:\n",
    "            print(\"Exception\",i, e)\n",
    "    return dict_all\n",
    "\n",
    "methods = [\"qmix\", \"qvmix\",  \"coma\", \"iql\", \"qplex\", \"dqn\", \"facmac\"]\n",
    "env1 = [\"uc\", \"c\", \"owf\"]\n",
    "env2 = {\"uc\":[\"3\", \"5\", \"10\", \"50\", \"100\" ], \"c\":[\"3\", \"5\", \"10\", \"50\", \"100\"], \"owf\":[\"1\",\"2\",\"5\",\"25\",\"50\"]}\n",
    "cc = [True, False]\n",
    "results={}\n",
    "for cc_ in cc:\n",
    "    for i in methods:\n",
    "        for j in env1:\n",
    "            for k in env2[j]:\n",
    "                exp_name = f\"{i}_{j}_{k}_cc_{cc_}\"\n",
    "                results[exp_name] = dict_results_from_json(test_json_files, i,j,k, cc_)\n",
    "print(len(results[\"facmac_owf_50_cc_False\"]))"
   ],
   "metadata": {
    "collapsed": false,
    "ExecuteTime": {
     "start_time": "2023-06-03T18:00:15.243533Z",
     "end_time": "2023-06-03T18:00:15.272294Z"
    }
   }
  },
  {
   "cell_type": "code",
   "execution_count": null,
   "outputs": [],
   "source": [
    "for i in results[\"facmac_owf_50_cc_False\"]:\n",
    "    if i[\"test_return_mean_T\"][-1]<2000000:\n",
    "        print(\"rm -r \", i[\"name\"])"
   ],
   "metadata": {
    "collapsed": false,
    "ExecuteTime": {
     "start_time": "2023-06-03T18:00:15.275647Z",
     "end_time": "2023-06-03T18:00:15.284465Z"
    }
   }
  },
  {
   "cell_type": "markdown",
   "source": [
    "# DO NOT FORGET TO SET cc_str = \"cc_False\" or \"cc_True\""
   ],
   "metadata": {
    "collapsed": false
   }
  },
  {
   "cell_type": "code",
   "execution_count": null,
   "outputs": [],
   "source": [
    "list_100=[]\n",
    "list_1000=[]\n",
    "list_10000=[]\n",
    "for i in results[\"facmac_owf_50_cc_False\"]:\n",
    "    if i['name'].startswith(\"test_100_\"):\n",
    "        list_100.append(i)\n",
    "    elif i['name'].startswith(\"test_1000_\"):\n",
    "        list_1000.append(i)\n",
    "    elif i['name'].startswith(\"test_10000_\"):\n",
    "        list_10000.append(i)\n",
    "print(len(list_1O0), len(list_1000), len(list_10000))"
   ],
   "metadata": {
    "collapsed": false,
    "ExecuteTime": {
     "start_time": "2023-06-03T18:00:15.589957Z",
     "end_time": "2023-06-03T18:00:15.596669Z"
    }
   }
  },
  {
   "cell_type": "code",
   "execution_count": null,
   "outputs": [],
   "source": [
    "import numpy as np\n",
    "# Check max diff between means\n",
    "list_mean = [i[\"test_return_mean\"] for i in list_100]\n",
    "list_mean = np.array(list_mean)\n",
    "list_diff = np.max(list_mean, axis=0) - np.min(list_mean, axis=0)\n",
    "print(np.max(list_diff))\n",
    "# print the value of the min and max also where this max list diff is met\n",
    "print(np.min(list_mean, axis=0)[np.argmax(list_diff)])\n",
    "\n",
    "list_mean = [i[\"test_return_mean\"] for i in list_1000]\n",
    "list_mean = np.array(list_mean)\n",
    "list_diff = np.max(list_mean, axis=0) - np.min(list_mean, axis=0)\n",
    "print(np.max(list_diff))\n",
    "print(np.min(list_mean, axis=0)[np.argmax(list_diff)])\n",
    "\n",
    "list_mean = [i[\"test_return_mean\"] for i in list_10000]\n",
    "list_mean = np.array(list_mean)\n",
    "list_diff = np.max(list_mean, axis=0) - np.min(list_mean, axis=0)\n",
    "print(np.max(list_diff))\n",
    "print(np.min(list_mean, axis=0)[np.argmax(list_diff)])"
   ],
   "metadata": {
    "collapsed": false,
    "ExecuteTime": {
     "start_time": "2023-06-03T18:19:18.126578Z",
     "end_time": "2023-06-03T18:19:18.146074Z"
    }
   }
  },
  {
   "cell_type": "code",
   "execution_count": null,
   "outputs": [],
   "source": [
    "from matplotlib.ticker import ScalarFormatter\n",
    "from scipy.ndimage import gaussian_filter1d\n",
    "import numpy as np\n",
    "from matplotlib import pyplot as plt\n",
    "\n",
    "\n",
    "plt.style.use('seaborn-white')\n",
    "fig, axes = plt.subplots(1,3)\n",
    "fig.set_figheight(20)\n",
    "fig.set_figwidth(120)\n",
    "plt.subplots_adjust(wspace=0.17)\n",
    "\n",
    "\n",
    "for i in list_100:\n",
    "    axes[0].plot(i[\"test_return_mean_T\"], gaussian_filter1d(i[\"test_return_std\"], sigma=10), lw=5, label=i[\"name\"])\n",
    "    #axes[0].plot(i[\"test_return_mean_T\"], gaussian_filter1d(i[\"test_return_mean\"], sigma=10), lw=5, label=i[\"name\"])\n",
    "\n",
    "for i in list_1000:\n",
    "    axes[1].plot(i[\"test_return_mean_T\"], gaussian_filter1d(i[\"test_return_std\"], sigma=10), lw=5, label=i[\"name\"])\n",
    "    #axes[1].plot(i[\"test_return_mean_T\"], gaussian_filter1d(i[\"test_return_mean\"], sigma=10), lw=5, label=i[\"name\"])\n",
    "\n",
    "for i in list_10000:\n",
    "    axes[2].plot(i[\"test_return_mean_T\"], gaussian_filter1d(i[\"test_return_std\"], sigma=10), lw=5, label=i[\"name\"])\n",
    "    #axes[2].plot(i[\"test_return_mean_T\"], gaussian_filter1d(i[\"test_return_mean\"], sigma=10), lw=5, label=i[\"name\"])\n",
    "for ax in axes:\n",
    "    ax.grid()\n",
    "    ax.set_xlim(0, 2000000)\n",
    "    fig.canvas.draw()\n",
    "    if ax == axes[0]:\n",
    "        ax.set_ylabel('Standard deviation of R_0', fontsize=80)\n",
    "    ax.yaxis.set_tick_params(length=15, width=5)\n",
    "    ax.xaxis.set_tick_params(length=15, width=5)\n",
    "    fig.canvas.draw()\n",
    "    a = ax.get_xticks()\n",
    "    ax.set_xticks(np.arange(min(a), max(a)+1, 0.5*1000000))\n",
    "    ax.set_xticks(ax.get_xticks()) # to remove a warning\n",
    "    ax.set_xticklabels(['0', '0.5', '1', '1.5', '2'], fontsize=80)\n",
    "# titles\n",
    "axes[0].set_title('100 episodes', fontsize=80)\n",
    "axes[1].set_title('1,000 episodes', fontsize=80)\n",
    "axes[2].set_title('10,000 episodes', fontsize=80)\n",
    "\n",
    "plt.rc('font', size=80)\n",
    "axes[1].set_xlabel('Timesteps ('+r'$\\times \\mathregular{10^{6}}$' + ')', fontsize=80)\n",
    "\n",
    "plt.plot()\n",
    "plt.savefig(f\"results_scripts/plots/variance_analysis.pdf\", bbox_inches='tight')\n",
    "print(\"\")\n"
   ],
   "metadata": {
    "collapsed": false,
    "ExecuteTime": {
     "start_time": "2023-06-03T18:28:26.612380Z",
     "end_time": "2023-06-03T18:28:30.092490Z"
    }
   }
  },
  {
   "cell_type": "code",
   "execution_count": null,
   "outputs": [],
   "source": [],
   "metadata": {
    "collapsed": false,
    "ExecuteTime": {
     "start_time": "2023-06-03T18:00:19.033036Z",
     "end_time": "2023-06-03T18:00:19.036893Z"
    }
   }
  },
  {
   "cell_type": "code",
   "execution_count": null,
   "outputs": [],
   "source": [],
   "metadata": {
    "collapsed": false,
    "ExecuteTime": {
     "start_time": "2023-05-16T11:27:33.927001Z",
     "end_time": "2023-05-16T11:27:33.927343Z"
    }
   }
  },
  {
   "cell_type": "code",
   "execution_count": null,
   "outputs": [],
   "source": [],
   "metadata": {
    "collapsed": false,
    "ExecuteTime": {
     "start_time": "2023-05-16T11:27:33.927431Z",
     "end_time": "2023-05-16T11:27:33.927484Z"
    }
   }
  },
  {
   "cell_type": "code",
   "execution_count": null,
   "outputs": [],
   "source": [],
   "metadata": {
    "collapsed": false,
    "ExecuteTime": {
     "start_time": "2023-05-16T11:26:44.871241Z",
     "end_time": "2023-05-16T11:27:33.927630Z"
    }
   }
  },
  {
   "cell_type": "code",
   "execution_count": null,
   "outputs": [],
   "source": [],
   "metadata": {
    "collapsed": false,
    "ExecuteTime": {
     "start_time": "2023-05-16T11:26:44.920065Z",
     "end_time": "2023-05-16T11:27:33.927746Z"
    }
   }
  },
  {
   "cell_type": "code",
   "execution_count": null,
   "outputs": [],
   "source": [],
   "metadata": {
    "collapsed": false,
    "ExecuteTime": {
     "start_time": "2023-05-16T11:24:11.248241Z",
     "end_time": "2023-05-16T11:24:11.249096Z"
    }
   }
  },
  {
   "cell_type": "code",
   "execution_count": null,
   "outputs": [],
   "source": [],
   "metadata": {
    "collapsed": false,
    "ExecuteTime": {
     "start_time": "2023-05-16T11:23:15.584523Z",
     "end_time": "2023-05-16T11:24:11.249220Z"
    }
   }
  },
  {
   "cell_type": "code",
   "execution_count": null,
   "outputs": [],
   "source": [],
   "metadata": {
    "collapsed": false,
    "ExecuteTime": {
     "start_time": "2023-05-16T11:23:15.584559Z",
     "end_time": "2023-05-16T11:24:11.249366Z"
    }
   }
  }
 ],
 "metadata": {
  "kernelspec": {
   "display_name": "Python 3",
   "language": "python",
   "name": "python3"
  },
  "language_info": {
   "codemirror_mode": {
    "name": "ipython",
    "version": 2
   },
   "file_extension": ".py",
   "mimetype": "text/x-python",
   "name": "python",
   "nbconvert_exporter": "python",
   "pygments_lexer": "ipython2",
   "version": "2.7.6"
  }
 },
 "nbformat": 4,
 "nbformat_minor": 0
}
