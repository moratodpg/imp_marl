{
 "cells": [
  {
   "cell_type": "code",
   "execution_count": 7,
   "metadata": {
    "collapsed": true,
    "ExecuteTime": {
     "start_time": "2023-06-21T11:05:39.283488Z",
     "end_time": "2023-06-21T11:05:40.226535Z"
    }
   },
   "outputs": [
    {
     "name": "stdout",
     "output_type": "stream",
     "text": [
      "1920\n",
      "1920\n"
     ]
    }
   ],
   "source": [
    "import os\n",
    "import glob\n",
    "sacred_dir = \"logs\"\n",
    "parent_dir = os.getcwd()\n",
    "train_config = glob.glob(os.path.join(parent_dir, sacred_dir, \"**/*config.json\"), recursive=True)\n",
    "test_files = glob.glob(os.path.join(parent_dir, sacred_dir, \"**/test**/*config.json\"), recursive=True)\n",
    "train_config = set(train_config)-set(test_files)\n",
    "print(len(train_config))\n",
    "print(len(test_files))"
   ]
  },
  {
   "cell_type": "code",
   "execution_count": 8,
   "outputs": [
    {
     "name": "stdout",
     "output_type": "stream",
     "text": [
      "dict_keys(['qmix_uc_3_cc_True', 'qmix_uc_5_cc_True', 'qmix_uc_10_cc_True', 'qmix_uc_50_cc_True', 'qmix_uc_100_cc_True', 'qmix_c_3_cc_True', 'qmix_c_5_cc_True', 'qmix_c_10_cc_True', 'qmix_c_50_cc_True', 'qmix_c_100_cc_True', 'qmix_owf_1_cc_True', 'qmix_owf_2_cc_True', 'qmix_owf_5_cc_True', 'qmix_owf_25_cc_True', 'qmix_owf_50_cc_True', 'qvmix_uc_3_cc_True', 'qvmix_uc_5_cc_True', 'qvmix_uc_10_cc_True', 'qvmix_uc_50_cc_True', 'qvmix_uc_100_cc_True', 'qvmix_c_3_cc_True', 'qvmix_c_5_cc_True', 'qvmix_c_10_cc_True', 'qvmix_c_50_cc_True', 'qvmix_c_100_cc_True', 'qvmix_owf_1_cc_True', 'qvmix_owf_2_cc_True', 'qvmix_owf_5_cc_True', 'qvmix_owf_25_cc_True', 'qvmix_owf_50_cc_True', 'coma_uc_3_cc_True', 'coma_uc_5_cc_True', 'coma_uc_10_cc_True', 'coma_uc_50_cc_True', 'coma_uc_100_cc_True', 'coma_c_3_cc_True', 'coma_c_5_cc_True', 'coma_c_10_cc_True', 'coma_c_50_cc_True', 'coma_c_100_cc_True', 'coma_owf_1_cc_True', 'coma_owf_2_cc_True', 'coma_owf_5_cc_True', 'coma_owf_25_cc_True', 'coma_owf_50_cc_True', 'iql_uc_3_cc_True', 'iql_uc_5_cc_True', 'iql_uc_10_cc_True', 'iql_uc_50_cc_True', 'iql_uc_100_cc_True', 'iql_c_3_cc_True', 'iql_c_5_cc_True', 'iql_c_10_cc_True', 'iql_c_50_cc_True', 'iql_c_100_cc_True', 'iql_owf_1_cc_True', 'iql_owf_2_cc_True', 'iql_owf_5_cc_True', 'iql_owf_25_cc_True', 'iql_owf_50_cc_True', 'qplex_uc_3_cc_True', 'qplex_uc_5_cc_True', 'qplex_uc_10_cc_True', 'qplex_uc_50_cc_True', 'qplex_uc_100_cc_True', 'qplex_c_3_cc_True', 'qplex_c_5_cc_True', 'qplex_c_10_cc_True', 'qplex_c_50_cc_True', 'qplex_c_100_cc_True', 'qplex_owf_1_cc_True', 'qplex_owf_2_cc_True', 'qplex_owf_5_cc_True', 'qplex_owf_25_cc_True', 'qplex_owf_50_cc_True', 'dqn_uc_3_cc_True', 'dqn_uc_5_cc_True', 'dqn_uc_10_cc_True', 'dqn_uc_50_cc_True', 'dqn_uc_100_cc_True', 'dqn_c_3_cc_True', 'dqn_c_5_cc_True', 'dqn_c_10_cc_True', 'dqn_c_50_cc_True', 'dqn_c_100_cc_True', 'dqn_owf_1_cc_True', 'dqn_owf_2_cc_True', 'dqn_owf_5_cc_True', 'dqn_owf_25_cc_True', 'dqn_owf_50_cc_True', 'facmac_uc_3_cc_True', 'facmac_uc_5_cc_True', 'facmac_uc_10_cc_True', 'facmac_uc_50_cc_True', 'facmac_uc_100_cc_True', 'facmac_c_3_cc_True', 'facmac_c_5_cc_True', 'facmac_c_10_cc_True', 'facmac_c_50_cc_True', 'facmac_c_100_cc_True', 'facmac_owf_1_cc_True', 'facmac_owf_2_cc_True', 'facmac_owf_5_cc_True', 'facmac_owf_25_cc_True', 'facmac_owf_50_cc_True', 'qmix_uc_3_cc_False', 'qmix_uc_5_cc_False', 'qmix_uc_10_cc_False', 'qmix_uc_50_cc_False', 'qmix_uc_100_cc_False', 'qmix_c_3_cc_False', 'qmix_c_5_cc_False', 'qmix_c_10_cc_False', 'qmix_c_50_cc_False', 'qmix_c_100_cc_False', 'qmix_owf_1_cc_False', 'qmix_owf_2_cc_False', 'qmix_owf_5_cc_False', 'qmix_owf_25_cc_False', 'qmix_owf_50_cc_False', 'qvmix_uc_3_cc_False', 'qvmix_uc_5_cc_False', 'qvmix_uc_10_cc_False', 'qvmix_uc_50_cc_False', 'qvmix_uc_100_cc_False', 'qvmix_c_3_cc_False', 'qvmix_c_5_cc_False', 'qvmix_c_10_cc_False', 'qvmix_c_50_cc_False', 'qvmix_c_100_cc_False', 'qvmix_owf_1_cc_False', 'qvmix_owf_2_cc_False', 'qvmix_owf_5_cc_False', 'qvmix_owf_25_cc_False', 'qvmix_owf_50_cc_False', 'coma_uc_3_cc_False', 'coma_uc_5_cc_False', 'coma_uc_10_cc_False', 'coma_uc_50_cc_False', 'coma_uc_100_cc_False', 'coma_c_3_cc_False', 'coma_c_5_cc_False', 'coma_c_10_cc_False', 'coma_c_50_cc_False', 'coma_c_100_cc_False', 'coma_owf_1_cc_False', 'coma_owf_2_cc_False', 'coma_owf_5_cc_False', 'coma_owf_25_cc_False', 'coma_owf_50_cc_False', 'iql_uc_3_cc_False', 'iql_uc_5_cc_False', 'iql_uc_10_cc_False', 'iql_uc_50_cc_False', 'iql_uc_100_cc_False', 'iql_c_3_cc_False', 'iql_c_5_cc_False', 'iql_c_10_cc_False', 'iql_c_50_cc_False', 'iql_c_100_cc_False', 'iql_owf_1_cc_False', 'iql_owf_2_cc_False', 'iql_owf_5_cc_False', 'iql_owf_25_cc_False', 'iql_owf_50_cc_False', 'qplex_uc_3_cc_False', 'qplex_uc_5_cc_False', 'qplex_uc_10_cc_False', 'qplex_uc_50_cc_False', 'qplex_uc_100_cc_False', 'qplex_c_3_cc_False', 'qplex_c_5_cc_False', 'qplex_c_10_cc_False', 'qplex_c_50_cc_False', 'qplex_c_100_cc_False', 'qplex_owf_1_cc_False', 'qplex_owf_2_cc_False', 'qplex_owf_5_cc_False', 'qplex_owf_25_cc_False', 'qplex_owf_50_cc_False', 'dqn_uc_3_cc_False', 'dqn_uc_5_cc_False', 'dqn_uc_10_cc_False', 'dqn_uc_50_cc_False', 'dqn_uc_100_cc_False', 'dqn_c_3_cc_False', 'dqn_c_5_cc_False', 'dqn_c_10_cc_False', 'dqn_c_50_cc_False', 'dqn_c_100_cc_False', 'dqn_owf_1_cc_False', 'dqn_owf_2_cc_False', 'dqn_owf_5_cc_False', 'dqn_owf_25_cc_False', 'dqn_owf_50_cc_False', 'facmac_uc_3_cc_False', 'facmac_uc_5_cc_False', 'facmac_uc_10_cc_False', 'facmac_uc_50_cc_False', 'facmac_uc_100_cc_False', 'facmac_c_3_cc_False', 'facmac_c_5_cc_False', 'facmac_c_10_cc_False', 'facmac_c_50_cc_False', 'facmac_c_100_cc_False', 'facmac_owf_1_cc_False', 'facmac_owf_2_cc_False', 'facmac_owf_5_cc_False', 'facmac_owf_25_cc_False', 'facmac_owf_50_cc_False'])\n"
     ]
    }
   ],
   "source": [
    "import json\n",
    "\n",
    "def exp_name_from_file(file):\n",
    "    exp_name = os.path.basename(os.path.dirname(file))\n",
    "    exp_name = exp_name.split(\"_\")\n",
    "\n",
    "    if 'owf' in exp_name and 'dqn' in exp_name:\n",
    "        index_env = 5\n",
    "    elif \"owf\" in exp_name:\n",
    "        index_env = 4\n",
    "    else:\n",
    "        index_env = 5\n",
    "\n",
    "    if exp_name[index_env] != exp_name[2] and index_env is not 4:\n",
    "        if int(exp_name[2]) == 10 and int(exp_name[index_env]) < 10:\n",
    "            pass\n",
    "        else:\n",
    "            if not \"dqn\" in exp_name:\n",
    "                print(\"merde\")\n",
    "                print(int(exp_name[2]) == 10, int(exp_name[index_env]) < 10)\n",
    "                print(exp_name, exp_name[2], exp_name[index_env])\n",
    "    if \"cc_True\" in file:\n",
    "        exp_name = [exp_name[0], exp_name[index_env-1], exp_name[index_env], \"cc_True\"]\n",
    "    else:\n",
    "        exp_name = [exp_name[0], exp_name[index_env-1], exp_name[index_env], \"cc_False\"]\n",
    "    if exp_name[1] == \"sarl\":\n",
    "        exp_name[1]= \"owf\"\n",
    "    return exp_name\n",
    "\n",
    "def dict_results_from_json(files, method, env1, env2, cc):\n",
    "    dict_all=[]\n",
    "\n",
    "    for i in files:\n",
    "        exp_name=exp_name_from_file(i)\n",
    "\n",
    "        if cc and \"cc_True\" in i:\n",
    "            pass\n",
    "        elif not cc and (\"cc_False\" in i or \"cc\" not in i):\n",
    "            pass\n",
    "        else:\n",
    "            continue\n",
    "\n",
    "        if exp_name[0] == method and exp_name[1] == env1 and exp_name[2] == env2:\n",
    "            exp_name = \"_\".join(exp_name)\n",
    "\n",
    "            # Remove dqn too much\n",
    "            if exp_name.startswith(\"dqn\"):\n",
    "                # ignore uc/ic 10 50 100 and owf 5 25 50\n",
    "                if \"10\" in k or \"50\" in k or \"100\" in k or (\"owf\" in k and ('5' in k or '25' in k or '50' in k)):\n",
    "                    continue\n",
    "        else:\n",
    "            continue\n",
    "        try:\n",
    "            with open(i, \"r\") as file:\n",
    "                infos = json.load(file)\n",
    "                dict_exp= {}\n",
    "                dict_exp[\"name\"] = os.path.basename(os.path.dirname(i))\n",
    "                dict_exp[\"seed\"] = infos[\"seed\"]\n",
    "                dict_all.append(dict_exp)\n",
    "        except Exception as e:\n",
    "            print(\"Exception\",i, e)\n",
    "    return dict_all\n",
    "\n",
    "methods = [\"qmix\", \"qvmix\",  \"coma\", \"iql\", \"qplex\", \"dqn\", \"facmac\"]\n",
    "env1 = [\"uc\", \"c\", \"owf\"]\n",
    "env2 = {\"uc\":[\"3\", \"5\", \"10\", \"50\", \"100\" ], \"c\":[\"3\", \"5\", \"10\", \"50\", \"100\"], \"owf\":[\"1\",\"2\",\"5\",\"25\",\"50\"]}\n",
    "cc = [True, False]\n",
    "results={}\n",
    "for cc_ in cc:\n",
    "    for i in methods:\n",
    "        for j in env1:\n",
    "            for k in env2[j]:\n",
    "                exp_name = f\"{i}_{j}_{k}_cc_{cc_}\"\n",
    "                results[exp_name] = dict_results_from_json(train_config, i,j,k, cc_)\n",
    "print(results.keys())"
   ],
   "metadata": {
    "collapsed": false,
    "ExecuteTime": {
     "start_time": "2023-06-21T11:05:40.228091Z",
     "end_time": "2023-06-21T11:05:41.864738Z"
    }
   }
  },
  {
   "cell_type": "code",
   "execution_count": 9,
   "outputs": [
    {
     "name": "stdout",
     "output_type": "stream",
     "text": [
      "604251540\n",
      "622798568\n",
      "214664275\n",
      "846103983\n",
      "843209078\n",
      "442054166\n",
      "512556830\n",
      "655969730\n",
      "854845478\n",
      "540410252\n"
     ]
    }
   ],
   "source": [
    "# methods = [\"qmix\", \"qvmix\",  \"coma\", \"iql\", \"qplex\", \"dqn\", \"facmac\"]\n",
    "# env1 = [\"uc\", \"c\", \"owf\"]\n",
    "# env2 = {\"uc\":[\"3\", \"5\", \"10\", \"50\", \"100\" ], \"c\":[\"3\", \"5\", \"10\", \"50\", \"100\"], \"owf\":[\"1\",\"2\",\"5\",\"25\",\"50\"]}\n",
    "# cc = [True, False]\n",
    "# Keys of results = method_env1_env2_cc_True/False\n",
    "\n",
    "method = \"qmix\"\n",
    "env1 = \"c\"\n",
    "env2 = 5\n",
    "cc = True\n",
    "\n",
    "for i in results[f\"{method}_{env1}_{env2}_cc_{cc}\"]:\n",
    "    print(i[\"seed\"])\n",
    "\n"
   ],
   "metadata": {
    "collapsed": false,
    "ExecuteTime": {
     "start_time": "2023-06-21T11:05:41.865000Z",
     "end_time": "2023-06-21T11:05:41.870088Z"
    }
   }
  }
 ],
 "metadata": {
  "kernelspec": {
   "display_name": "Python 3",
   "language": "python",
   "name": "python3"
  },
  "language_info": {
   "codemirror_mode": {
    "name": "ipython",
    "version": 2
   },
   "file_extension": ".py",
   "mimetype": "text/x-python",
   "name": "python",
   "nbconvert_exporter": "python",
   "pygments_lexer": "ipython2",
   "version": "2.7.6"
  }
 },
 "nbformat": 4,
 "nbformat_minor": 0
}
