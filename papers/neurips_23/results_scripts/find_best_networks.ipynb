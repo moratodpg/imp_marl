{
 "cells": [
  {
   "cell_type": "code",
   "execution_count": null,
   "metadata": {
    "collapsed": true,
    "ExecuteTime": {
     "start_time": "2023-05-30T17:43:40.071596Z",
     "end_time": "2023-05-30T17:43:40.444769Z"
    }
   },
   "outputs": [],
   "source": [
    "import os\n",
    "import glob\n",
    "\n",
    "sacred_dir = \"logs\"\n",
    "parent_dir = os.getcwd()\n",
    "print(os.getcwd())\n",
    "test_json_files = glob.glob(os.path.join(parent_dir, sacred_dir, \"**/test**/*info.json\"), recursive=True)\n",
    "print(len(test_json_files))"
   ]
  },
  {
   "cell_type": "code",
   "execution_count": null,
   "outputs": [],
   "source": [
    "import json\n",
    "\n",
    "def exp_name_from_file(file):\n",
    "    # test_10000_qvmix_uc_50_owf_25_9__2023-03-15_23-09-01__2023-03-21_06-07-53\n",
    "    # test_10000_qvmix_uc_50_owf_25_cc_True_5__2023-04-01_23-05-55__2023-04-10_17-30-24\n",
    "    exp_name = os.path.basename(os.path.dirname(file))\n",
    "    exp_name = exp_name.split(\"_\")[2:]\n",
    "\n",
    "    if 'owf' in exp_name and 'dqn' in exp_name:\n",
    "        index_env = 5\n",
    "    elif \"owf\" in exp_name:\n",
    "        index_env = 4\n",
    "    else:\n",
    "        index_env = 5\n",
    "\n",
    "    if exp_name[index_env] != exp_name[2] and index_env is not 4:\n",
    "        if int(exp_name[2]) == 10 and int(exp_name[index_env]) < 10:\n",
    "            pass\n",
    "        else:\n",
    "            if not \"dqn\" in exp_name:\n",
    "                print(\"merde\")\n",
    "                print(int(exp_name[2]) == 10, int(exp_name[index_env]) < 10)\n",
    "                print(exp_name, exp_name[2], exp_name[index_env])\n",
    "    if \"cc_True\" in file:\n",
    "        exp_name = [exp_name[0], exp_name[index_env-1], exp_name[index_env], \"cc_True\"]\n",
    "    else:\n",
    "        exp_name = [exp_name[0], exp_name[index_env-1], exp_name[index_env], \"cc_False\"]\n",
    "    if exp_name[1] == \"sarl\":\n",
    "        exp_name[1]= \"owf\"\n",
    "    return exp_name\n",
    "\n",
    "def dict_results_from_json(test_json_files, method, env1, env2, cc):\n",
    "    dict_all=[]\n",
    "\n",
    "    for i in test_json_files:\n",
    "        exp_name=exp_name_from_file(i)\n",
    "\n",
    "        if cc and \"cc_True\" in i:\n",
    "            pass\n",
    "        elif not cc and (\"cc_False\" in i or \"cc\" not in i):\n",
    "            pass\n",
    "        else:\n",
    "            continue\n",
    "\n",
    "        if exp_name[0] == method and exp_name[1] == env1 and exp_name[2] == env2:\n",
    "            exp_name = \"_\".join(exp_name)\n",
    "\n",
    "            # Remove dqn too much\n",
    "            if exp_name.startswith(\"dqn\"):\n",
    "                # ignore uc/ic 10 50 100 and owf 5 25 50\n",
    "                if \"10\" in k or \"50\" in k or \"100\" in k or (\"owf\" in k and ('5' in k or '25' in k or '50' in k)):\n",
    "                    continue\n",
    "        else:\n",
    "            continue\n",
    "        try:\n",
    "            with open(i, \"r\") as file:\n",
    "                infos = json.load(file)\n",
    "                dict_exp= {}\n",
    "                dict_exp[\"name\"] = os.path.basename(os.path.dirname(i))\n",
    "                dict_exp[\"test_return_mean\"] = [i[\"value\"] for i in infos[\"test_return_mean\"]]\n",
    "                dict_exp[\"test_return_mean_T\"] = infos[\"test_return_mean_T\"]\n",
    "                dict_all.append(dict_exp)\n",
    "        except Exception as e:\n",
    "            print(\"Exception\",i, e)\n",
    "    return dict_all\n",
    "\n",
    "methods = [\"qmix\", \"qvmix\",\"qplex\",\"coma\", \"facmac\", \"iql\",  \"dqn\"]\n",
    "env1 = [\"uc\", \"c\", \"owf\"]\n",
    "env2 = {\"uc\":[\"3\", \"5\", \"10\", \"50\", \"100\" ], \"c\":[\"3\", \"5\", \"10\", \"50\", \"100\"], \"owf\":[\"1\",\"2\",\"5\",\"25\",\"50\"]}\n",
    "cc = [True, False]\n",
    "results={}\n",
    "for cc_ in cc:\n",
    "    for i in methods:\n",
    "        for j in env1:\n",
    "            for k in env2[j]:\n",
    "                exp_name = f\"{i}_{j}_{k}_cc_{cc_}\"\n",
    "                results[exp_name] = dict_results_from_json(test_json_files, i,j,k, cc_)\n",
    "\n",
    "for k, v in results.items():\n",
    "    print(k, len(v))\n",
    "print(results.keys())\n",
    "\n",
    "for j in env1:\n",
    "    for k in env2[j]:\n",
    "        print(j+k, end=\" & \")"
   ],
   "metadata": {
    "collapsed": false,
    "ExecuteTime": {
     "start_time": "2023-05-30T17:43:40.445640Z",
     "end_time": "2023-05-30T17:43:44.956278Z"
    }
   }
  },
  {
   "cell_type": "code",
   "execution_count": null,
   "outputs": [],
   "source": [
    "import numpy as np\n",
    "\n",
    "methods = [\"facmac\"] # [\"qmix\", \"qvmix\",\"qplex\",\"coma\", \"facmac\", \"iql\",  \"dqn\"]\n",
    "env1 = [\"uc\", \"c\", \"owf\"]\n",
    "env2 = {\"uc\":[\"100\" ], \"c\":[\"100\"], \"owf\":[\"50\"]} # {\"uc\":[\"3\", \"5\", \"10\", \"50\", \"100\" ], \"c\":[\"3\", \"5\", \"10\", \"50\", \"100\"], \"owf\":[\"1\",\"2\",\"5\",\"25\",\"50\"]}\n",
    "cc = [True, False]\n",
    "# Rewrite the loop but only keep one max instead of one print for each exp.\n",
    "for i in methods:\n",
    "    for j in env1:\n",
    "        for cc_str in [\"cc_False\", \"cc_True\"]:\n",
    "            for k in env2[j]:\n",
    "                exp_name = f\"{i}_{j}_{k}_{cc_str}\"\n",
    "                cur_max=-100000\n",
    "                cur_max_T = None\n",
    "                cur_max_name = None\n",
    "                for exp in results[exp_name]:\n",
    "                    argmax = np.argmax(exp[\"test_return_mean\"][:81])\n",
    "                    if exp[\"test_return_mean\"][argmax] > cur_max:\n",
    "                        cur_max = exp[\"test_return_mean\"][argmax]\n",
    "                        cur_max_T = exp[\"test_return_mean_T\"][argmax]\n",
    "                        cur_max_name = exp[\"name\"]\n",
    "                print(f\"{cur_max:.2f} & {cur_max_T} & {cur_max_name}\")"
   ],
   "metadata": {
    "collapsed": false,
    "ExecuteTime": {
     "start_time": "2023-05-30T17:43:44.965969Z",
     "end_time": "2023-05-30T17:43:45.172863Z"
    }
   }
  },
  {
   "cell_type": "code",
   "execution_count": null,
   "outputs": [],
   "source": [],
   "metadata": {
    "collapsed": false,
    "ExecuteTime": {
     "start_time": "2023-05-30T17:43:45.174345Z",
     "end_time": "2023-05-30T17:43:45.178093Z"
    }
   }
  }
 ],
 "metadata": {
  "kernelspec": {
   "display_name": "Python 3",
   "language": "python",
   "name": "python3"
  },
  "language_info": {
   "codemirror_mode": {
    "name": "ipython",
    "version": 2
   },
   "file_extension": ".py",
   "mimetype": "text/x-python",
   "name": "python",
   "nbconvert_exporter": "python",
   "pygments_lexer": "ipython2",
   "version": "2.7.6"
  }
 },
 "nbformat": 4,
 "nbformat_minor": 0
}
