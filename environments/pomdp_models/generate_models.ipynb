{
 "cells": [
  {
   "cell_type": "code",
   "execution_count": 1,
   "id": "6b6137b9",
   "metadata": {
    "ExecuteTime": {
     "end_time": "2023-06-20T15:42:46.223578Z",
     "start_time": "2023-06-20T15:42:27.472165Z"
    }
   },
   "outputs": [],
   "source": [
    "#Importing modules\n",
    "import numpy as np\n",
    "from create_models import CreateModels\n",
    "import math"
   ]
  },
  {
   "cell_type": "markdown",
   "id": "a07f531b",
   "metadata": {},
   "source": [
    "# Input data"
   ]
  },
  {
   "cell_type": "markdown",
   "id": "e81d9135",
   "metadata": {},
   "source": [
    "The input data for the damage model is introduced in the cell below.\n",
    "In this case, the model corresponds to a crack propagation law, where a crack grows over time."
   ]
  },
  {
   "cell_type": "code",
   "execution_count": 2,
   "id": "c12c83f8",
   "metadata": {
    "ExecuteTime": {
     "end_time": "2023-06-20T15:42:58.223686Z",
     "start_time": "2023-06-20T15:42:58.168936Z"
    }
   },
   "outputs": [
    {
     "data": {
      "text/plain": [
       "{'T': 30,\n",
       " 'ncycles': 1000000,\n",
       " 'd0_mean': 1,\n",
       " 'dcrit': 20,\n",
       " 'S_mean': 70,\n",
       " 'S_std': 10,\n",
       " 'm': 3.5,\n",
       " 'lnC_mean': -35.2,\n",
       " 'lnC_std': 0.5}"
      ]
     },
     "execution_count": 2,
     "metadata": {},
     "output_type": "execute_result"
    }
   ],
   "source": [
    "config = {}\n",
    "\n",
    "config[\"T\"] = 30 # Finite horizon in years\n",
    "config[\"ncycles\"] = 1000000 # Number of load cycle experienced in one year\n",
    "config[\"d0_mean\"] = 1 # Initial crack size\n",
    "config[\"dcrit\"] = 20  # Critical crack size\n",
    "config[\"S_mean\"] = 70 # Stress range definition in MPa\n",
    "config[\"S_std\"] = 10 # Crack growth variable\n",
    "config[\"m\"] = 3.5 # Crack growth variable\n",
    "config[\"lnC_mean\"] = -35.2 # Crack growth variable\n",
    "config[\"lnC_std\"] = 0.5 # Crack growth variable\n",
    "config"
   ]
  },
  {
   "cell_type": "markdown",
   "id": "3555d786",
   "metadata": {},
   "source": [
    "# Simulations"
   ]
  },
  {
   "cell_type": "markdown",
   "id": "4e2de417",
   "metadata": {},
   "source": [
    "An object is loaded taking into account the previously defined damage model.\n",
    "This is done by calling the class \"Pomdp\": Pomdp(config)"
   ]
  },
  {
   "cell_type": "code",
   "execution_count": 3,
   "id": "dbd02b84",
   "metadata": {
    "ExecuteTime": {
     "end_time": "2023-06-20T15:42:58.372804Z",
     "start_time": "2023-06-20T15:42:58.279611Z"
    }
   },
   "outputs": [],
   "source": [
    "model_dr = CreateModels(config)"
   ]
  },
  {
   "cell_type": "markdown",
   "id": "95352476",
   "metadata": {},
   "source": [
    "The crack size distribution is propagated over time in a Monte Carlo simuation here below.\n",
    "This is done through the method crack_growth(n_samples), where the number of samples are specified.\n",
    "The output consists of crack growth results for the horizon and samples."
   ]
  },
  {
   "cell_type": "code",
   "execution_count": 4,
   "id": "d34b12c6",
   "metadata": {
    "ExecuteTime": {
     "end_time": "2023-06-20T15:43:02.600738Z",
     "start_time": "2023-06-20T15:42:58.681955Z"
    }
   },
   "outputs": [
    {
     "name": "stderr",
     "output_type": "stream",
     "text": [
      "C:\\coding\\tbd\\imp_marl\\imp_env\\pomdp_models\\create_models.py:30: RuntimeWarning: invalid value encountered in power\n",
      "  dt = (((2 - self.m) / 2) * C * (\n"
     ]
    }
   ],
   "source": [
    "n_samples = 1e6\n",
    "model_dr.crack_growth(n_samples)"
   ]
  },
  {
   "cell_type": "code",
   "execution_count": 5,
   "id": "4b15b069",
   "metadata": {
    "ExecuteTime": {
     "end_time": "2023-06-20T15:43:02.630604Z",
     "start_time": "2023-06-20T15:43:02.624791Z"
    }
   },
   "outputs": [
    {
     "data": {
      "text/plain": [
       "(31, 1000000)"
      ]
     },
     "execution_count": 5,
     "metadata": {},
     "output_type": "execute_result"
    }
   ],
   "source": [
    "model_dr.dd.shape"
   ]
  },
  {
   "cell_type": "markdown",
   "id": "f263b326",
   "metadata": {},
   "source": [
    "# Transition model"
   ]
  },
  {
   "cell_type": "markdown",
   "id": "61863132",
   "metadata": {},
   "source": [
    "The transition model is below constructed by calling the method transition_model().\n",
    "Note that this follows a particular discretisation scheme.\n",
    "\n",
    "The output provides: \n",
    "* Inital damage probabilities: model_dr.b0\n",
    "* Transition probabilities for a do-nothing action: model_dr.T0\n",
    "* Transition probabilities for a repair action: model_dr.Tr"
   ]
  },
  {
   "cell_type": "code",
   "execution_count": 6,
   "id": "fb60f733",
   "metadata": {
    "ExecuteTime": {
     "end_time": "2023-06-20T15:43:11.217335Z",
     "start_time": "2023-06-20T15:43:02.634347Z"
    }
   },
   "outputs": [
    {
     "data": {
      "text/plain": [
       "array([1.00000000e-100, 1.00000000e-004, 1.54640235e-004, 2.39136022e-004,\n",
       "       3.69800505e-004, 5.71860368e-004, 8.84326215e-004, 1.36752413e-003,\n",
       "       2.11474253e-003, 3.27024280e-003, 5.05711114e-003, 7.82032854e-003,\n",
       "       1.20933744e-002, 1.87012225e-002, 2.89196144e-002, 4.47213595e-002,\n",
       "       6.91572153e-002, 1.06944880e-001, 1.65379813e-001, 2.55743731e-001,\n",
       "       3.95482706e-001, 6.11575384e-001, 9.45741609e-001, 1.46249704e+000,\n",
       "       2.26160886e+000, 3.49735724e+000, 5.40832145e+000, 8.36344097e+000,\n",
       "       1.29332447e+001, 2.00000000e+001, 1.00000000e+020])"
      ]
     },
     "execution_count": 6,
     "metadata": {},
     "output_type": "execute_result"
    }
   ],
   "source": [
    "model_dr.transition_model()"
   ]
  },
  {
   "cell_type": "code",
   "execution_count": 7,
   "id": "c71bff7a",
   "metadata": {
    "ExecuteTime": {
     "end_time": "2023-06-20T15:43:11.223338Z",
     "start_time": "2023-06-20T15:43:11.216026Z"
    }
   },
   "outputs": [
    {
     "data": {
      "text/plain": [
       "(30,)"
      ]
     },
     "execution_count": 7,
     "metadata": {},
     "output_type": "execute_result"
    }
   ],
   "source": [
    "model_dr.b0.shape"
   ]
  },
  {
   "cell_type": "code",
   "execution_count": 8,
   "id": "af50db1e",
   "metadata": {
    "ExecuteTime": {
     "end_time": "2023-06-20T15:43:11.231879Z",
     "start_time": "2023-06-20T15:43:11.223672Z"
    }
   },
   "outputs": [
    {
     "data": {
      "text/plain": [
       "(31, 30, 30)"
      ]
     },
     "execution_count": 8,
     "metadata": {},
     "output_type": "execute_result"
    }
   ],
   "source": [
    "model_dr.T0.shape"
   ]
  },
  {
   "cell_type": "code",
   "execution_count": 9,
   "id": "c7b16d0c",
   "metadata": {
    "ExecuteTime": {
     "end_time": "2023-06-20T15:43:11.275914Z",
     "start_time": "2023-06-20T15:43:11.235215Z"
    }
   },
   "outputs": [
    {
     "data": {
      "text/plain": [
       "(31, 30, 30)"
      ]
     },
     "execution_count": 9,
     "metadata": {},
     "output_type": "execute_result"
    }
   ],
   "source": [
    "model_dr.Tr.shape"
   ]
  },
  {
   "cell_type": "markdown",
   "id": "1c655f1b",
   "metadata": {},
   "source": [
    "# Inspection model"
   ]
  },
  {
   "cell_type": "markdown",
   "id": "f858fc08",
   "metadata": {},
   "source": [
    "The inspection model is below constructed by calling the method inspection_model(). \n",
    "Note that a specific probability of detection curve is here implemented.\n",
    "\n",
    "The output provides: \n",
    "* Inspection model: model_dr.O"
   ]
  },
  {
   "cell_type": "code",
   "execution_count": 10,
   "id": "cdea1032",
   "metadata": {
    "ExecuteTime": {
     "end_time": "2023-06-20T15:43:11.277655Z",
     "start_time": "2023-06-20T15:43:11.240591Z"
    }
   },
   "outputs": [
    {
     "data": {
      "text/plain": [
       "array([[9.99993750e-01, 6.24998047e-06],\n",
       "       [9.99984085e-01, 1.59148880e-05],\n",
       "       [9.99975389e-01, 2.46107132e-05],\n",
       "       [9.99961942e-01, 3.80578087e-05],\n",
       "       [9.99941148e-01, 5.88520727e-05],\n",
       "       [9.99908992e-01, 9.10075200e-05],\n",
       "       [9.99859269e-01, 1.40730743e-04],\n",
       "       [9.99782382e-01, 2.17617984e-04],\n",
       "       [9.99663495e-01, 3.36504953e-04],\n",
       "       [9.99479676e-01, 5.20324206e-04],\n",
       "       [9.99195484e-01, 8.04516183e-04],\n",
       "       [9.98756168e-01, 1.24383223e-03],\n",
       "       [9.98077189e-01, 1.92281133e-03],\n",
       "       [9.97028122e-01, 2.97187751e-03],\n",
       "       [9.95408015e-01, 4.59198532e-03],\n",
       "       [9.92907858e-01, 7.09214215e-03],\n",
       "       [9.89053968e-01, 1.09460324e-02],\n",
       "       [9.83123734e-01, 1.68762664e-02],\n",
       "       [9.74023136e-01, 2.59768635e-02],\n",
       "       [9.60115535e-01, 3.98844645e-02],\n",
       "       [9.38998750e-01, 6.10012497e-02],\n",
       "       [9.07254464e-01, 9.27455356e-02],\n",
       "       [8.60264898e-01, 1.39735102e-01],\n",
       "       [7.92346392e-01, 2.07653608e-01],\n",
       "       [6.97721410e-01, 3.02278590e-01],\n",
       "       [5.73151661e-01, 4.26848339e-01],\n",
       "       [4.22851109e-01, 5.77148891e-01],\n",
       "       [2.64201593e-01, 7.35798407e-01],\n",
       "       [1.27667277e-01, 8.72332723e-01],\n",
       "       [7.24397570e-02, 9.27560243e-01]])"
      ]
     },
     "execution_count": 10,
     "metadata": {},
     "output_type": "execute_result"
    }
   ],
   "source": [
    "model_dr.inspection_model()"
   ]
  },
  {
   "cell_type": "markdown",
   "id": "cdc84d92",
   "metadata": {},
   "source": [
    "# Storing transitions"
   ]
  },
  {
   "cell_type": "markdown",
   "id": "90833002",
   "metadata": {},
   "source": [
    "The transition and inspection models can be stored at the user's discretion and it is case dependent. \n",
    "The environment dynamics needs three main components:\n",
    "\n",
    "* Initial probabilities: belief0  \n",
    "* Transition probabilities: P\n",
    "* Inspection model (or/and sensor model): O"
   ]
  },
  {
   "cell_type": "code",
   "execution_count": 11,
   "id": "0ceceb06",
   "metadata": {
    "ExecuteTime": {
     "end_time": "2023-06-20T15:43:11.278752Z",
     "start_time": "2023-06-20T15:43:11.251786Z"
    }
   },
   "outputs": [],
   "source": [
    "# Initial probabilities\n",
    "belief0 = np.zeros((1, 10, 30, 1)) # ((empty, n_comp, damage, empty))\n",
    "belief0[0, :, :, 0] = model_dr.b0"
   ]
  },
  {
   "cell_type": "code",
   "execution_count": 12,
   "id": "8179b71f",
   "metadata": {
    "ExecuteTime": {
     "end_time": "2023-06-20T15:43:11.279171Z",
     "start_time": "2023-06-20T15:43:11.258110Z"
    }
   },
   "outputs": [],
   "source": [
    "# Transition model\n",
    "P = np.zeros((3, 10, 31, 30, 30)) # ((action, n_comp, d_rate, damage, damage))\n",
    "P[0, :, :, :, :] = model_dr.T0 # Do-nothing action\n",
    "P[1, :, :, :, :] = model_dr.T0 # Inspection action\n",
    "P[2, :, :, :, :] = model_dr.Tr # Repair action"
   ]
  },
  {
   "cell_type": "code",
   "execution_count": 13,
   "id": "e32ff713",
   "metadata": {
    "ExecuteTime": {
     "end_time": "2023-06-20T15:43:11.293078Z",
     "start_time": "2023-06-20T15:43:11.274711Z"
    }
   },
   "outputs": [],
   "source": [
    "# Inspection model\n",
    "O = np.zeros((3, 10, 30, 2)) # ((action, n_comp, damage, inspect_outcome))\n",
    "O[0, :, :, 0] = np.ones(30) # Do-nothing action\n",
    "O[1, :, :, :] = model_dr.O # Inspection action\n",
    "O[2, :, :, 0] = np.ones(30) # Repair action"
   ]
  },
  {
   "cell_type": "code",
   "execution_count": 14,
   "id": "49c37d39",
   "metadata": {
    "ExecuteTime": {
     "end_time": "2023-06-20T15:43:11.302235Z",
     "start_time": "2023-06-20T15:43:11.280469Z"
    }
   },
   "outputs": [],
   "source": [
    "# Store it (for instance as a numpy file)\n",
    "np.savez('model.npz', belief0=belief0, P=P, O=O)"
   ]
  }
 ],
 "metadata": {
  "kernelspec": {
   "display_name": "Python 3 (ipykernel)",
   "language": "python",
   "name": "python3"
  },
  "language_info": {
   "codemirror_mode": {
    "name": "ipython",
    "version": 3
   },
   "file_extension": ".py",
   "mimetype": "text/x-python",
   "name": "python",
   "nbconvert_exporter": "python",
   "pygments_lexer": "ipython3",
   "version": "3.9.13"
  }
 },
 "nbformat": 4,
 "nbformat_minor": 5
}
